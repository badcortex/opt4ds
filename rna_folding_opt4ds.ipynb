{
  "nbformat": 4,
  "nbformat_minor": 0,
  "metadata": {
    "colab": {
      "name": "rna_folding_opt4ds.ipynb",
      "provenance": [],
      "collapsed_sections": [],
      "authorship_tag": "ABX9TyNY+XKF6rhcQVoMq8dAxEoo",
      "include_colab_link": true
    },
    "kernelspec": {
      "name": "python3",
      "display_name": "Python 3"
    }
  },
  "cells": [
    {
      "cell_type": "markdown",
      "metadata": {
        "id": "view-in-github",
        "colab_type": "text"
      },
      "source": [
        "<a href=\"https://colab.research.google.com/github/badcortex/opt4ds/blob/master/rna_folding_opt4ds.ipynb\" target=\"_parent\"><img src=\"https://colab.research.google.com/assets/colab-badge.svg\" alt=\"Open In Colab\"/></a>"
      ]
    },
    {
      "cell_type": "code",
      "metadata": {
        "id": "sd0DKJ04Ukxb"
      },
      "source": [
        "import shutil\n",
        "import sys\n",
        "import os.path\n",
        "\n",
        "if not shutil.which(\"pyomo\"):\n",
        "    !pip install -q pyomo\n",
        "    assert(shutil.which(\"pyomo\"))\n",
        "\n",
        "if not (shutil.which(\"glpk\") or os.path.isfile(\"glpk\")):\n",
        "    if \"google.colab\" in sys.modules:\n",
        "        !apt-get install -y -qq glpk-utils\n",
        "    else:\n",
        "        try:\n",
        "            !conda install -c conda-forge glpk \n",
        "        except:\n",
        "            pass"
      ],
      "execution_count": 7,
      "outputs": []
    },
    {
      "cell_type": "code",
      "metadata": {
        "id": "cHsSPqxIUtEB"
      },
      "source": [
        "from timeit import default_timer as timer\n",
        "import matplotlib.pyplot as plt\n",
        "from pyomo.environ import *\n",
        "import pandas as pd\n",
        "import numpy as np"
      ],
      "execution_count": 8,
      "outputs": []
    },
    {
      "cell_type": "markdown",
      "metadata": {
        "id": "icajhHbiXASO"
      },
      "source": [
        "# The RNA Folding problem \n",
        "\n",
        "**The Simple RNA Folding problem** : Given the nucleotide sequence *s* of a RNA molecule, find a *nested pairing* that pairs the *maximum* number of nucleotides, compared to any other nested pairing. \n",
        "\n",
        "### Integer Linear Programming formulation\n",
        "The ILP formulation for the Simple RNA Folding problem will have one binary variable, called $P(i,j)$, for each pair $(i,j)$ of positions in *s*, where $i < j$. The value $P(i,j)$ given by a feasible solution to the ILP formulation whether or not the nucleotide in $i$ of *s* will be paired with the nucleotide in position $j$ of *s*. \n",
        "\n",
        "1. **The objective funtion** : $$ Maximize \\sum_{i<j} P(i,j) $$ \n",
        "2. **The inequalities** : For every pair $(i,j)$ of positions in *s* that do not have complementary characters $$ P(i,j) = 0 $$ \n",
        "For each position $j$ in *s* $$ \\sum_{k < j} P(k,j) + \\sum_{k > j} P(j,k) \\leq 1 $$ For every choice of four positions $i < i'< j < j'$\n",
        "$$ P(i,j)+P(i',j') \\leq 1 $$\n",
        "\n",
        "See more: *Chapter 6, Integer Linear Programming in Computational and Systems Biology: An entry-level text and course, Dan Gusfield*"
      ]
    },
    {
      "cell_type": "code",
      "metadata": {
        "id": "pK6yeYAgUv4n"
      },
      "source": [
        "def solve_ilp_model(rna_sequence):\n",
        "    rna_length = len(rna_sequence)\n",
        "    \n",
        "    # Model\n",
        "    model = ConcreteModel()\n",
        "\n",
        "    # Indexes\n",
        "    model.I = RangeSet(1, rna_length-1)\n",
        "    model.J = RangeSet(1, rna_length)\n",
        "\n",
        "    # Decision variables\n",
        "    model.P = Var(model.I, model.J, within=Binary)\n",
        "\n",
        "    # Objective function\n",
        "    model.Obj = Objective(expr=sum(model.P[i,j] for i in model.I for j in model.J if i<j),\n",
        "                          sense=maximize)\n",
        "\n",
        "    # Complementary pairs constraint\n",
        "    model.ComPairs = ConstraintList()\n",
        "    for j in model.J:\n",
        "        for i in model.I:\n",
        "            if i < j:\n",
        "                if (rna_sequence[i-1], rna_sequence[j-1]) not in [(\"A\",\"U\"),(\"U\",\"A\"),(\"C\",\"G\"),(\"G\",\"C\")]:\n",
        "                    model.ComPairs.add(model.P[i,j] == 0)\n",
        "\n",
        "    # Pairing constraint \n",
        "    model.PairNucs = ConstraintList()\n",
        "    for j in model.J:\n",
        "        expr = 0 \n",
        "        for k in range(1, j):\n",
        "            expr += model.P[k,j]\n",
        "        for k in range(j+1, rna_length+1):\n",
        "            expr += model.P[j,k]\n",
        "        model.PairNucs.add(expr <= 1)\n",
        "\n",
        "    # Nesting contraint\n",
        "    model.NestPair = ConstraintList()\n",
        "    for h in range(1, rna_length-2):\n",
        "        for i in range(h+1, rna_length-1):\n",
        "            for j in range(i+1, rna_length):\n",
        "                for k in range(j+1, rna_length+1):\n",
        "                    model.NestPair.add(model.P[h,j] + model.P[i,k] <= 1)\n",
        "\n",
        "    # Solve the model\n",
        "    sol = SolverFactory(\"glpk\").solve(model)\n",
        "    time = sol[\"Solver\"].Time\n",
        "\n",
        "    # Print P(i,j)\n",
        "    # for j in model.J:\n",
        "    #    for i in model.I:\n",
        "    #        if i < j:\n",
        "    #            print(\"P({},{}) = {}\".format(i, j, model.P[i,j]()))\n",
        "\n",
        "    # Optimal solution with dot-bracket notation\n",
        "    rna_db_sequence = [\".\" for i in rna_sequence]\n",
        "    for i in model.I:\n",
        "        for j in model.J:\n",
        "            if i < j:\n",
        "                if model.P[i,j]() == 1:\n",
        "                    rna_db_sequence[i-1] = \"(\"\n",
        "                    rna_db_sequence[j-1] = \")\"\n",
        "\n",
        "    solution = {\"Time\": time, \"ObjValue\": model.Obj(), \"DBSeq\": rna_db_sequence}\n",
        "\n",
        "    return solution "
      ],
      "execution_count": 9,
      "outputs": []
    },
    {
      "cell_type": "markdown",
      "metadata": {
        "id": "V9XPQypFXfZk"
      },
      "source": [
        "### Dynamic programming: the Nussinov Algorithm\n",
        "\n",
        "Similarly to the ILP approach, The Nussinov algorithm solves the problem of predicting secondary RNA structures by maximizing base pairs. \n",
        "\n",
        "\"This is achieved by assigning a score to our input structure within an $L×L$ matrix, $N_{ij}$. To do this, for every paired set of nucleotides, we give it a score of $+1$, and for others, $0$. We then attempt to maximize the scores and backtrack on the nucleotides which maximize our overall score. To maximize our base pairs, Nussinov states only 4 possible rules we may use when comparing nucleotides\".\n",
        "\n",
        "**Algorithm:**\n",
        "1. Add unpaired position $i$ onto best substructure for subsequence $i+1,j$\n",
        "2. Add unpaired position $j$ onto best substructure for subsequence $i,j–1$\n",
        "3. Add paired bases $i–j$ to the best substructure for the subsequence $i+j,j–1$\n",
        "4. Combine two optimal substructures $i,k$ and $k+1,j$\n",
        "\n",
        "$$\\gamma(i, j) \\; \n",
        "max \\begin{cases} \\gamma(i + 1, j), \\\\ \\gamma(i, j – 1), \\\\ \\gamma(i + 1, j – 1) + \\delta(r_i, r_j), \\\\ max \\{\\gamma(i, k) + \\gamma(k + 1, j) \\} \\end{cases}$$\n",
        "\n",
        "where:\n",
        "\n",
        "$$\\delta(i, j) = \\begin{cases} 1, & \\text{if } x_i – x_j \\text{is a pair} \\\\ 0, & \\text{else.} \\end{cases}$$\n",
        "\n",
        "\n",
        "See more: [Nussinov algorithm to predict secondary RNA fold structures](https://bayesianneuron.com/2019/02/nussinov-predict-2nd-rna-fold-structure-algorithm/)\n",
        "\n"
      ]
    },
    {
      "cell_type": "code",
      "metadata": {
        "id": "PBZ0ftFQUz7r"
      },
      "source": [
        "def couple(pair):\n",
        "\t\"\"\"\n",
        "\tReturn True if RNA nucleotides are Watson-Crick base pairs\n",
        "\t\"\"\"\n",
        "\tpairs = {\"A\":\"U\", \"U\":\"A\", \"G\":\"C\", \"C\":\"G\"} \n",
        "\n",
        "\t# check if pair is couplable\n",
        "\tif pair in pairs.items():\n",
        "\t\treturn True\n",
        "\t\n",
        "\treturn False\n",
        "\n",
        "def fill(nm, rna):\n",
        "\t\"\"\"\n",
        "\tFill the matrix as per the Nussinov algorithm\n",
        "\t\"\"\"\n",
        "\tminimal_loop_length = 0\n",
        "\n",
        "\tfor k in range(1, len(rna)):\n",
        "\t\tfor i in range(len(rna) - k):\n",
        "\t\t\tj = i + k\n",
        "\n",
        "\t\t\tif j - i >= minimal_loop_length:\n",
        "\t\t\t\tdown = nm[i+1][j] # 1st rule\n",
        "\t\t\t\tleft = nm[i][j-1] # 2nd rule\n",
        "\t\t\t\tdiag = nm[i+1][j-1] + couple((rna[i], rna[j])) # 3rd rule\n",
        "\n",
        "\t\t\t\trc = max([nm[i][t] + nm[t+1][j] for t in range(i, j)]) # 4th rule\n",
        "\n",
        "\t\t\t\tnm[i][j] = max(down, left, diag, rc) # max of all\n",
        "\t\t\telse:\n",
        "\t\t\t\tnm[i][j] = 0\n",
        "\n",
        "\treturn nm\t\n",
        "\n",
        "\n",
        "def traceback(nm, rna, fold, i, L):\n",
        "\t\"\"\"\n",
        "\tTraceback through complete Nussinov matrix to find optimial RNA secondary structure solution through max base-pairs\n",
        "\t\"\"\"\n",
        "\tj = L\n",
        "\n",
        "\tif i < j:\n",
        "\t\tif nm[i][j] == nm[i+1][j]: # 1st rule\n",
        "\t\t\ttraceback(nm, rna, fold, i + 1, j)\n",
        "\t\telif nm[i][j] == nm[i][j-1]: # 2nd rule\n",
        "\t\t\ttraceback(nm, rna, fold, i, j - 1)\n",
        "\t\telif nm[i][j] == nm[i+1][j-1] + couple((rna[i], rna[j])): # 3rd rule\n",
        "\t\t\tfold.append((i, j))\n",
        "\t\t\ttraceback(nm, rna, fold, i + 1, j - 1)\n",
        "\t\telse:\n",
        "\t\t\tfor k in range(i+1, j-1):\n",
        "\t\t\t\tif nm[i][j] == nm[i, k] + nm[k+1][j]: # 4th rule\n",
        "\t\t\t\t\ttraceback(nm, rna, fold, i, k)\n",
        "\t\t\t\t\ttraceback(nm, rna, fold, k + 1, j)\n",
        "\t\t\t\t\tbreak\n",
        "\n",
        "\treturn fold\n",
        "\n",
        "\n",
        "def dot_write(rna, fold):\n",
        "\tdot = [\".\" for i in range(len(rna))]\n",
        "\n",
        "\tfor s in fold:\n",
        "\t\t#print(min(s), max(s))\n",
        "\t\tdot[min(s)] = \"(\"\n",
        "\t\tdot[max(s)] = \")\"\n",
        "\n",
        "\treturn \"\".join(dot)\n",
        "\n",
        "\n",
        "def init_matrix(rna):\n",
        "\tM = len(rna)\n",
        "\n",
        "\t# init matrix\n",
        "\tnm = np.empty([M, M])\n",
        "\tnm[:] = np.NAN\n",
        "\n",
        "\t# init diaganols to 0\n",
        "\t# few ways to do this: np.fill_diaganol(), np.diag(), nested loop, ...\n",
        "\tnm[range(M), range(M)] = 0\n",
        "\tnm[range(1, len(rna)), range(len(rna) - 1)] = 0\n",
        "\n",
        "\treturn nm"
      ],
      "execution_count": 10,
      "outputs": []
    },
    {
      "cell_type": "markdown",
      "metadata": {
        "id": "swyATOQME_PB"
      },
      "source": [
        "Run the following cell to fold RNA sequences with the two methods above. At the end there are graph illustrating how the times and objective values vary with changing string lengths.  \n"
      ]
    },
    {
      "cell_type": "code",
      "metadata": {
        "id": "PU-xBHyOU6Yg"
      },
      "source": [
        "if __name__ == \"__main__\":\n",
        "    # RNA sequence\n",
        "    rna_sequences = [[\"A\",\"C\",\"U\",\"G\",\"U\"],\n",
        "                     [\"A\",\"C\",\"U\",\"G\",\"U\",\"A\",\"C\",\"U\",\"G\",\"U\"],\n",
        "                     [\"A\",\"C\",\"U\",\"G\",\"U\",\"A\",\"C\",\"U\",\"G\",\"U\",\"A\",\"C\",\"U\",\"G\",\"U\"],\n",
        "                     [\"A\",\"C\",\"U\",\"G\",\"U\",\"A\",\"C\",\"U\",\"G\",\"U\",\"A\",\"C\",\"U\",\"G\",\"U\",\"A\",\"C\",\"U\",\"G\",\"U\"]]\n",
        "\n",
        "    obj_value_ilp = []\n",
        "    db_seq_ilp = []\n",
        "    time_ilp = []\n",
        "\n",
        "    obj_value_dp = []\n",
        "    db_seq_dp = []\n",
        "    time_dp = []\n",
        "\n",
        "    for i, rna_sequence in enumerate(rna_sequences):\n",
        "        # Solve ILP model\n",
        "        ilp_sol = solve_ilp_model(rna_sequence)\n",
        "\n",
        "        obj_value_ilp.append(ilp_sol[\"ObjValue\"])\n",
        "        db_seq_ilp.append(\"\".join(ilp_sol[\"DBSeq\"]))\n",
        "        time_ilp.append(ilp_sol[\"Time\"])\n",
        "\n",
        "        print(\"#{} RNA sequence: {}\\nRNA sequence length: {}\\n\".format(i+1,\"\".join(rna_sequence), len(rna_sequence)))\n",
        "        print(\"+ ILP Model\")\n",
        "        print(\"ObjValue: {}\\nDBSeq: {}\\nTime: {}\\n\".format(obj_value_ilp[i], db_seq_ilp[i], time_ilp[i]))\n",
        "\n",
        "        # Solve with Nussinov Algorithm\n",
        "        start_time = timer() \n",
        "        nm = init_matrix(\"\".join(rna_sequence))\n",
        "        nm = fill(nm, \"\".join(rna_sequence))\n",
        "\n",
        "        fold = []\n",
        "        sec = traceback(nm, \"\".join(rna_sequence), fold, 0, len(rna_sequence) - 1)\n",
        "        end_time = timer()\n",
        "\n",
        "        res = dot_write(\"\".join(rna_sequence), fold)\n",
        "\n",
        "        names = [_ for _ in \"\".join(rna_sequence)]\n",
        "        df = pd.DataFrame(nm, index=names, columns=names)\t\n",
        "\n",
        "        obj_value_dp.append(np.nanmax(nm))\n",
        "        db_seq_dp.append(res)\n",
        "        time_dp.append(end_time - start_time)\n",
        "\n",
        "        print(\"+ Nussinov Algorithm\")\n",
        "        print(\"ObjValue: {}\\nDBSeq: {}\\nTime: {}\\n\".format(obj_value_dp[i], db_seq_dp[i], time_dp[i]))\n",
        "        print(df, \"\\n\")"
      ],
      "execution_count": null,
      "outputs": []
    },
    {
      "cell_type": "code",
      "metadata": {
        "id": "Ib78wH6DcZ4H",
        "outputId": "94c33f44-5eaa-49a2-86c6-92abb96440c7",
        "colab": {
          "base_uri": "https://localhost:8080/",
          "height": 312
        }
      },
      "source": [
        "fig, ax = plt.subplots()  \n",
        "ax.plot([len(rna_sequence) for rna_sequence in rna_sequences], obj_value_ilp, \n",
        "        label='ILP Model', marker=\".\")  \n",
        "ax.plot([len(rna_sequence) for rna_sequence in rna_sequences], obj_value_dp, \n",
        "        label='Nussinov Algorithm', marker=\".\")    \n",
        "ax.set_xlabel('RNA sequence length')  \n",
        "ax.set_ylabel('Number of pairs')  \n",
        "ax.set_title(\"RNA sequence length vs Number of P(i,j)\") \n",
        "ax.legend() "
      ],
      "execution_count": null,
      "outputs": [
        {
          "output_type": "execute_result",
          "data": {
            "text/plain": [
              "<matplotlib.legend.Legend at 0x7f7b6d28c908>"
            ]
          },
          "metadata": {
            "tags": []
          },
          "execution_count": 6
        },
        {
          "output_type": "display_data",
          "data": {
            "image/png": "[encoded data removed]",
            "text/plain": [
              "<Figure size 432x288 with 1 Axes>"
            ]
          },
          "metadata": {
            "tags": [],
            "needs_background": "light"
          }
        }
      ]
    },
    {
      "cell_type": "code",
      "metadata": {
        "id": "88hGHv-gnjYd",
        "outputId": "1cc7f16d-97c8-43e6-e3fa-e9d0c065fe30",
        "colab": {
          "base_uri": "https://localhost:8080/",
          "height": 312
        }
      },
      "source": [
        "fig, ax = plt.subplots()  \n",
        "ax.plot([len(rna_sequence) for rna_sequence in rna_sequences], time_ilp, \n",
        "        label='ILP Model', marker=\".\")  \n",
        "ax.plot([len(rna_sequence) for rna_sequence in rna_sequences], time_dp, \n",
        "        label='Nussinov Algorithm', marker=\".\")    \n",
        "ax.set_xlabel('RNA sequence length')  \n",
        "ax.set_ylabel('Time to solve [ms]')  \n",
        "ax.set_title(\"RNA sequence length vs Time\") \n",
        "ax.legend()"
      ],
      "execution_count": null,
      "outputs": [
        {
          "output_type": "execute_result",
          "data": {
            "text/plain": [
              "<matplotlib.legend.Legend at 0x7f914b5e1a58>"
            ]
          },
          "metadata": {
            "tags": []
          },
          "execution_count": 17
        },
        {
          "output_type": "display_data",
          "data": {
            "image/png": "[encoded data removed]",
            "text/plain": [
              "<Figure size 432x288 with 1 Axes>"
            ]
          },
          "metadata": {
            "tags": [],
            "needs_background": "light"
          }
        }
      ]
    },
    {
      "cell_type": "code",
      "metadata": {
        "id": "_1HxsDZeWMiq",
        "outputId": "d5b81e8e-d71b-4012-a826-0d296269cc73",
        "colab": {
          "base_uri": "https://localhost:8080/",
          "height": 418
        }
      },
      "source": [
        "from graphviz import Digraph\n",
        "\n",
        "# Visualize #1 RNA sequence optimal fold\n",
        "rna_sequence = rna_sequences[0]\n",
        "db_seq = db_seq_ilp[0]\n",
        "\n",
        "# Graph creation\n",
        "ss = Digraph(comment='RNA Secondary structure')\n",
        "ss.attr(rankdir='LR')\n",
        "\n",
        "for i in range(len(rna_sequence)):\n",
        "    ss.node(str(i), rna_sequence[i])\n",
        "    \n",
        "for i in range(len(rna_sequence)-1):\n",
        "    ss.edge(str(i), str(i+1))\n",
        "\n",
        "max_length = []\n",
        "for i in range(len(db_seq)-1):\n",
        "    for j in range(i+1, len(db_seq)):\n",
        "        if i < j:\n",
        "            if db_seq[i] == \"(\" and db_seq[j] == \")\":\n",
        "                max_length.append((i,j))\n",
        "              \n",
        "for i in range(len(db_seq)-1):\n",
        "    if db_seq[i] == \"(\" and db_seq[len(db_seq)-i-1] == \")\":\n",
        "        ss.edge(str(i), str(len(db_seq)-i-1))\n",
        "\n",
        "print(ss.source)\n",
        "\n",
        "ss"
      ],
      "execution_count": 72,
      "outputs": [
        {
          "output_type": "stream",
          "text": [
            "// RNA Secondary structure\n",
            "digraph {\n",
            "\trankdir=LR\n",
            "\t0 [label=A]\n",
            "\t1 [label=C]\n",
            "\t2 [label=U]\n",
            "\t3 [label=G]\n",
            "\t4 [label=U]\n",
            "\t0 -> 1\n",
            "\t1 -> 2\n",
            "\t2 -> 3\n",
            "\t3 -> 4\n",
            "\t0 -> 4\n",
            "\t1 -> 3\n",
            "}\n"
          ],
          "name": "stdout"
        },
        {
          "output_type": "execute_result",
          "data": {
            "text/plain": [
              "<graphviz.dot.Digraph at 0x7f50b3b5a6d8>"
            ],
            "image/svg+xml": "<?xml version=\"1.0\" encoding=\"UTF-8\" standalone=\"no\"?>\n<!DOCTYPE svg PUBLIC \"-//W3C//DTD SVG 1.1//EN\"\n \"http://www.w3.org/Graphics/SVG/1.1/DTD/svg11.dtd\">\n<!-- Generated by graphviz version 2.40.1 (20161225.0304)\n -->\n<!-- Title: %3 Pages: 1 -->\n<svg width=\"422pt\" height=\"109pt\"\n viewBox=\"0.00 0.00 422.00 109.00\" xmlns=\"http://www.w3.org/2000/svg\" xmlns:xlink=\"http://www.w3.org/1999/xlink\">\n<g id=\"graph0\" class=\"graph\" transform=\"scale(1 1) rotate(0) translate(4 105)\">\n<title>%3</title>\n<polygon fill=\"#ffffff\" stroke=\"transparent\" points=\"-4,4 -4,-105 418,-105 418,4 -4,4\"/>\n<!-- 0 -->\n<g id=\"node1\" class=\"node\">\n<title>0</title>\n<ellipse fill=\"none\" stroke=\"#000000\" cx=\"27\" cy=\"-18\" rx=\"27\" ry=\"18\"/>\n<text text-anchor=\"middle\" x=\"27\" y=\"-14.3\" font-family=\"Times,serif\" font-size=\"14.00\" fill=\"#000000\">A</text>\n</g>\n<!-- 1 -->\n<g id=\"node2\" class=\"node\">\n<title>1</title>\n<ellipse fill=\"none\" stroke=\"#000000\" cx=\"117\" cy=\"-41\" rx=\"27\" ry=\"18\"/>\n<text text-anchor=\"middle\" x=\"117\" y=\"-37.3\" font-family=\"Times,serif\" font-size=\"14.00\" fill=\"#000000\">C</text>\n</g>\n<!-- 0&#45;&gt;1 -->\n<g id=\"edge1\" class=\"edge\">\n<title>0&#45;&gt;1</title>\n<path fill=\"none\" stroke=\"#000000\" d=\"M52.5497,-24.5294C61.6523,-26.8556 72.0697,-29.5178 81.8371,-32.0139\"/>\n<polygon fill=\"#000000\" stroke=\"#000000\" points=\"81.1427,-35.4489 91.698,-34.5339 82.876,-28.6668 81.1427,-35.4489\"/>\n</g>\n<!-- 4 -->\n<g id=\"node5\" class=\"node\">\n<title>4</title>\n<ellipse fill=\"none\" stroke=\"#000000\" cx=\"387\" cy=\"-18\" rx=\"27\" ry=\"18\"/>\n<text text-anchor=\"middle\" x=\"387\" y=\"-14.3\" font-family=\"Times,serif\" font-size=\"14.00\" fill=\"#000000\">U</text>\n</g>\n<!-- 0&#45;&gt;4 -->\n<g id=\"edge5\" class=\"edge\">\n<title>0&#45;&gt;4</title>\n<path fill=\"none\" stroke=\"#000000\" d=\"M53.9606,-15.9113C65.1085,-15.1457 78.1697,-14.3752 90,-14 193.9477,-10.7034 220.0523,-10.7034 324,-14 332.4106,-14.2667 341.4433,-14.7333 349.9684,-15.2558\"/>\n<polygon fill=\"#000000\" stroke=\"#000000\" points=\"349.8331,-18.7543 360.0394,-15.9113 350.2878,-11.7691 349.8331,-18.7543\"/>\n</g>\n<!-- 2 -->\n<g id=\"node3\" class=\"node\">\n<title>2</title>\n<ellipse fill=\"none\" stroke=\"#000000\" cx=\"207\" cy=\"-83\" rx=\"27\" ry=\"18\"/>\n<text text-anchor=\"middle\" x=\"207\" y=\"-79.3\" font-family=\"Times,serif\" font-size=\"14.00\" fill=\"#000000\">U</text>\n</g>\n<!-- 1&#45;&gt;2 -->\n<g id=\"edge2\" class=\"edge\">\n<title>1&#45;&gt;2</title>\n<path fill=\"none\" stroke=\"#000000\" d=\"M139.2472,-51.382C150.1728,-56.4806 163.5267,-62.7125 175.482,-68.2916\"/>\n<polygon fill=\"#000000\" stroke=\"#000000\" points=\"174.1549,-71.5346 184.6968,-72.5918 177.1151,-65.1913 174.1549,-71.5346\"/>\n</g>\n<!-- 3 -->\n<g id=\"node4\" class=\"node\">\n<title>3</title>\n<ellipse fill=\"none\" stroke=\"#000000\" cx=\"297\" cy=\"-41\" rx=\"27\" ry=\"18\"/>\n<text text-anchor=\"middle\" x=\"297\" y=\"-37.3\" font-family=\"Times,serif\" font-size=\"14.00\" fill=\"#000000\">G</text>\n</g>\n<!-- 1&#45;&gt;3 -->\n<g id=\"edge6\" class=\"edge\">\n<title>1&#45;&gt;3</title>\n<path fill=\"none\" stroke=\"#000000\" d=\"M144.3381,-41C175.1765,-41 225.5008,-41 259.8771,-41\"/>\n<polygon fill=\"#000000\" stroke=\"#000000\" points=\"259.9944,-44.5001 269.9944,-41 259.9943,-37.5001 259.9944,-44.5001\"/>\n</g>\n<!-- 2&#45;&gt;3 -->\n<g id=\"edge3\" class=\"edge\">\n<title>2&#45;&gt;3</title>\n<path fill=\"none\" stroke=\"#000000\" d=\"M229.2472,-72.618C240.1728,-67.5194 253.5267,-61.2875 265.482,-55.7084\"/>\n<polygon fill=\"#000000\" stroke=\"#000000\" points=\"267.1151,-58.8087 274.6968,-51.4082 264.1549,-52.4654 267.1151,-58.8087\"/>\n</g>\n<!-- 3&#45;&gt;4 -->\n<g id=\"edge4\" class=\"edge\">\n<title>3&#45;&gt;4</title>\n<path fill=\"none\" stroke=\"#000000\" d=\"M322.5497,-34.4706C331.6523,-32.1444 342.0697,-29.4822 351.8371,-26.9861\"/>\n<polygon fill=\"#000000\" stroke=\"#000000\" points=\"352.876,-30.3332 361.698,-24.4661 351.1427,-23.5511 352.876,-30.3332\"/>\n</g>\n</g>\n</svg>\n"
          },
          "metadata": {
            "tags": []
          },
          "execution_count": 72
        }
      ]
    },
    {
      "cell_type": "markdown",
      "metadata": {
        "id": "cdVo3VQoMFLx"
      },
      "source": [
        "### Integer Linear Programming formulation with biological enhancements\n",
        "The central assumption in RNA folding prediction is that the most *stable* fold is the most *likely fold*. *Base stacking* contributes significantly to the stability of an RNA fold so a more complex model (based on maximum stability) should *encourage* paired nucleotides to be organized into stacks as much as possible. \n",
        "\n",
        "A matched pair $(i,j)$ in a nested pairing is called *stacked pair* if either $(i+1,j-1)$ or $(i-1,j+1)$ is also a matched pair in the nested pairing. If $(i,j)$ and $(i+1,j-1)$ are stacked pairs, the four positions $(i,i+1,j-1,j)$ is called a *stacked quartet*. \n",
        "\n",
        "A new binary variable $Q(i,j)$ is introduced to indicate wheter the pair $(i,j)$ is the first pair in a stacked quartet.\n",
        "\n",
        "1. **The objective funtion** : $$ Maximize \\sum_{i<j} P(i,j) + Q(i,j)$$ \n",
        "2. **The inequalities** : For every pair $(i,j)$ of positions in *s* that do not have complementary characters $$ P(i,j) = 0 $$ \n",
        "For each position $j$ in *s* $$ \\sum_{k < j} P(k,j) + \\sum_{k > j} P(j,k) \\leq 1 $$ For every choice of four positions $i < i'< j < j'$\n",
        "$$ P(i,j)+P(i',j') \\leq 1 $$\n",
        "For each pair $(i,j)$ where $j>i$ \n",
        "$$ P(i,j) + P(i+1,j-1) - Q(i,j) \\leq 1$$\n",
        "$$ 2Q(i,j) - P(i,j) - P(i+1,j-1) \\leq 0$$"
      ]
    },
    {
      "cell_type": "code",
      "metadata": {
        "id": "UeUy8yGasR3Y",
        "outputId": "966d742f-bedd-493f-8735-6a643ddaa7c6",
        "colab": {
          "base_uri": "https://localhost:8080/",
          "height": 235
        }
      },
      "source": [
        "from pyomo.environ import *\n",
        "\n",
        "# RNA sequence\n",
        "rna_sequence = [\"A\",\"C\",\"C\",\"A\",\"G\",\"A\",\"G\",\"C\",\"C\",\"U\"]\n",
        "rna_length = len(rna_sequence)\n",
        "minD = 2\n",
        "\n",
        "# Print RNA details\n",
        "print(\"RNA sequence: {} \\nRNA sequence length: {}\".format(\"\".join(rna_sequence), rna_length))\n",
        "\n",
        "# Model\n",
        "model = ConcreteModel()\n",
        "\n",
        "# Indexes\n",
        "model.I = RangeSet(1, rna_length-1)\n",
        "model.J = RangeSet(1, rna_length)\n",
        "\n",
        "# Print indexes \n",
        "# model.I.pprint()\n",
        "# model.J.pprint()\n",
        "\n",
        "# Decision variables\n",
        "model.P = Var(model.I, model.J, within=Binary)\n",
        "model.Q = Var(model.I, model.J, within=Binary)\n",
        "\n",
        "# Print decision variables\n",
        "# model.P.pprint()\n",
        "# model.Q.pprint()\n",
        "\n",
        "# Objective function\n",
        "model.Obj = Objective(expr=sum(model.P[i,j]+model.Q[i,j] for i in model.I for j in model.J if j-i>minD),\n",
        "                      sense=maximize)\n",
        "\n",
        "# Print objective function\n",
        "# model.Obj.pprint()\n",
        "\n",
        "# Complementary pairs constraint\n",
        "model.ComPairs = ConstraintList()\n",
        "for j in model.J:\n",
        "    for i in model.I:\n",
        "        if j-1 > minD:\n",
        "            if (rna_sequence[i-1], rna_sequence[j-1]) not in [(\"A\",\"U\"),(\"U\",\"A\"),(\"C\",\"G\"),(\"G\",\"C\")]:\n",
        "                 model.ComPairs.add(model.P[i,j] == 0)\n",
        "            \n",
        "# Print complementary pairs constraint\n",
        "# model.ComPairs.pprint()\n",
        "\n",
        "# Pairing constraint \n",
        "model.PairNucs = ConstraintList()\n",
        "for j in model.J:\n",
        "    expr = 0 \n",
        "    for k in range(1, j):\n",
        "        expr += model.P[k,j]\n",
        "    for k in range(j+1, rna_length+1):\n",
        "        expr += model.P[j,k]\n",
        "    model.PairNucs.add(expr <= 1)\n",
        "\n",
        "# Print paired nucleotides constraints \n",
        "# model.PairNucs.pprint()\n",
        "\n",
        "# Nesting contraint\n",
        "model.NestPair = ConstraintList()\n",
        "for h in range(1, rna_length-2):\n",
        "    for i in range(h+1, rna_length-1):\n",
        "        for j in range(i+1, rna_length):\n",
        "            for k in range(j+1, rna_length+1):\n",
        "                model.NestPair.add(model.P[h,j] + model.P[i,k] <= 1)\n",
        "\n",
        "# Quartets detection\n",
        "model.CountQuartet = ConstraintList()\n",
        "model.IfQuartet = ConstraintList()\n",
        "model.ThenQuartet = ConstraintList()\n",
        "for j in model.J:\n",
        "    for i in model.I:\n",
        "        if j-i > minD:\n",
        "            model.IfQuartet.add(model.P[i,j]+model.P[i+1,j-1]-model.Q[i,j] <= 1)\n",
        "            model.ThenQuartet.add(2*model.Q[i,j]-model.P[i+1,j-1]-model.P[i,j] <= 0)\n",
        "        else:\n",
        "            model.CountQuartet.add(model.Q[i,j] == 0)\n",
        "\n",
        "\n",
        "# Print nesting constraints                \n",
        "# model.NestPair.pprint()\n",
        "\n",
        "# Solve the model\n",
        "sol = SolverFactory(\"glpk\").solve(model)\n",
        "\n",
        "# Basic info about the solution process\n",
        "for info in sol[\"Solver\"]:\n",
        "    print(info)\n",
        "\n",
        "# Report solution value\n",
        "print(\"Optimal solution value: {}\".format(model.Obj()))"
      ],
      "execution_count": 14,
      "outputs": [
        {
          "output_type": "stream",
          "text": [
            "RNA sequence: ACCAGAGCCU \n",
            "RNA sequence length: 10\n",
            "\n",
            "Status: ok\n",
            "Termination condition: optimal\n",
            "Statistics: \n",
            "  Branch and bound: \n",
            "    Number of bounded subproblems: 5\n",
            "    Number of created subproblems: 5\n",
            "Error rc: 0\n",
            "Time: 0.016323089599609375\n",
            "\n",
            "Optimal solution value: 3.0\n"
          ],
          "name": "stdout"
        }
      ]
    },
    {
      "cell_type": "markdown",
      "metadata": {
        "id": "7iW3m9xYWfjg"
      },
      "source": [
        "<a rel=\"license\" href=\"http://creativecommons.org/licenses/by/4.0/\"><img alt=\"Creative Commons License\" style=\"border-width:0\" src=\"https://i.creativecommons.org/l/by/4.0/88x31.png\" /></a><br /><span xmlns:dct=\"http://purl.org/dc/terms/\" property=\"dct:title\"><b>The RNA Folding Problem: An ILP Approach,</b></span> by Andrea Panno is licensed under a <a rel=\"license\" href=\"http://creativecommons.org/licenses/by/4.0/\">Creative Commons Attribution 4.0 International License</a>.<br />Based on a work at <a xmlns:dct=\"http://purl.org/dc/terms/\" href=\"https://github.com/mathcoding/opt4ds\" rel=\"dct:source\">https://github.com/mathcoding/opt4ds</a>."
      ]
    }
  ]
}