{
  "nbformat": 4,
  "nbformat_minor": 0,
  "metadata": {
    "colab": {
      "name": "folding_lab.ipynb",
      "provenance": [],
      "authorship_tag": "ABX9TyMo8BiC2A9mPCTjnR2LhxNR",
      "include_colab_link": true
    },
    "kernelspec": {
      "name": "python3",
      "display_name": "Python 3"
    }
  },
  "cells": [
    {
      "cell_type": "markdown",
      "metadata": {
        "id": "view-in-github",
        "colab_type": "text"
      },
      "source": [
        "<a href=\"https://colab.research.google.com/github/badcortex/opt4ds/blob/master/folding_lab.ipynb\" target=\"_parent\"><img src=\"https://colab.research.google.com/assets/colab-badge.svg\" alt=\"Open In Colab\"/></a>"
      ]
    },
    {
      "cell_type": "markdown",
      "metadata": {
        "id": "2f6IOVSbZgK_",
        "colab_type": "text"
      },
      "source": [
        "In order to run the following notebook it is necessary to install the *Pyomo* library.  \n"
      ]
    },
    {
      "cell_type": "code",
      "metadata": {
        "id": "X6VEaVfAZjkG",
        "colab_type": "code",
        "colab": {}
      },
      "source": [
        "import shutil\n",
        "import sys\n",
        "import os.path\n",
        "\n",
        "if not shutil.which(\"pyomo\"):\n",
        "    !pip install -q pyomo\n",
        "    assert(shutil.which(\"pyomo\"))\n",
        "\n",
        "if not (shutil.which(\"glpk\") or os.path.isfile(\"glpk\")):\n",
        "    if \"google.colab\" in sys.modules:\n",
        "        !apt-get install -y -qq glpk-utils\n",
        "    else:\n",
        "        try:\n",
        "            !conda install -c conda-forge glpk \n",
        "        except:\n",
        "            pass"
      ],
      "execution_count": 0,
      "outputs": []
    },
    {
      "cell_type": "markdown",
      "metadata": {
        "id": "eilD81WhZp5J",
        "colab_type": "text"
      },
      "source": [
        "# The RNA Folding problem \n",
        "\n",
        "**The Simple RNA Folding problem** : Given the nucleotide sequence *s* of a RNA molecule, find a *nested pairing* that pairs the *maximum* number of nucleotides, compared to any other nested pairing. \n",
        "\n",
        "### A toy example\n",
        "The ILP formulation for the Simple RNA Folding problem will have one binary variable, called $P(i,j)$, for each pair $(i,j)$ of positions in *s*, where $i < j$. The value $P(i,j)$ given by a feasible solution to the ILP formulation whether or not the nucleotide in $i$ of *s* will be paired with the nucleotide in position $j$ of *s*. \n",
        "\n",
        "1. **The objective funtion** : $$ Maximize \\sum_{i<j} P(i,j) $$ \n",
        "2. **The inequalities** : For every pair $(i,j)$ of positions in *s* that do not have complementary characters $$ P(i,j) = 0 $$ \n",
        "For each position $j$ in *s* $$ \\sum_{k < j} P(k,j) + \\sum_{k > j} P(j,k) \\leq 1 $$ For every choice of four positions $i < i'< j < j'$\n",
        "$$ P(i,j)+P(i',j') \\leq 1 $$"
      ]
    },
    {
      "cell_type": "code",
      "metadata": {
        "id": "c7rjJSrIZrLP",
        "colab_type": "code",
        "colab": {}
      },
      "source": [
        "from pyomo.environ import * \n",
        "\n",
        "rna = [\"A\",\"C\",\"U\",\"G\",\"U\"]\n",
        "rna_length = len(rna)\n",
        "\n",
        "# Creazione del modello\n",
        "model = ConcreteModel() \n",
        "\n",
        "# Indici \n",
        "model.I = RangeSet(1, rna_length)\n",
        "model.J = RangeSet(1, rna_length + 1)\n",
        "\n",
        "# Variabili decisionali \n",
        "model.P = Var(model.I, model.J, within=Binary)\n",
        "\n",
        "# Funzione obiettivo \n",
        "model.Obj = Objective(expr=sum(model.P[i,j] for i in model.I for j in range(i+1,rna_length+1)), sense=maximize)\n",
        " \n",
        "# Vincoli \n",
        "model.ComPairs = ConstraintList()\n",
        "for i in model.I:\n",
        "  for j in range(i+1,rna_length+1):\n",
        "    if (rna[i-1],rna[j-1]) in [(\"A\",\"U\"),(\"U\",\"A\"),(\"C\",\"G\"),(\"G\",\"C\")]:\n",
        "      model.ComPairs.add(model.P[i,j] == 1)\n",
        "    else:\n",
        "      model.ComPairs.add(model.P[i,j] == 0)\n",
        "\n",
        "model.PairPos = ConstraintList()\n",
        "for i in model.I:\n",
        "  expr = 0\n",
        "  for j in range(1, i):\n",
        "    expr += model.P[j,i]\n",
        "  for j in range(i+1, rna_length+1):\n",
        "    expr += model.P[i,j]\n",
        "  model.PairPos.add(expr <= 1) \n",
        "\n",
        "model.NoCross = ConstraintList()\n",
        "for h in range(1, rna_length-2):\n",
        "  for i in range(h+1, rna_length-1):\n",
        "    for j in range(i+1, rna_length):\n",
        "      for k in range(j+1, rna_length+1):\n",
        "         model.NoCross.add(model.P[h,j] + model.P[i,k] <= 1) \n"
      ],
      "execution_count": 0,
      "outputs": []
    },
    {
      "cell_type": "code",
      "metadata": {
        "id": "HzVrxPKwfJmW",
        "colab_type": "code",
        "colab": {
          "base_uri": "https://localhost:8080/",
          "height": 538
        },
        "outputId": "6e095594-672e-4c99-8857-bc74a248f783"
      },
      "source": [
        "# Debug\n",
        "model.Obj.pprint()\n",
        "model.ComPairs.pprint()\n",
        "model.PairPos.pprint()\n",
        "model.Obj.display()"
      ],
      "execution_count": 46,
      "outputs": [
        {
          "output_type": "stream",
          "text": [
            "Obj : Size=1, Index=None, Active=True\n",
            "    Key  : Active : Sense    : Expression\n",
            "    None :   True : maximize : P[1,2] + P[1,3] + P[1,4] + P[1,5] + P[2,3] + P[2,4] + P[2,5] + P[3,4] + P[3,5] + P[4,5]\n",
            "ComPairs : Size=10, Index=ComPairs_index, Active=True\n",
            "    Key : Lower : Body   : Upper : Active\n",
            "      1 :   0.0 : P[1,2] :   0.0 :   True\n",
            "      2 :   1.0 : P[1,3] :   1.0 :   True\n",
            "      3 :   0.0 : P[1,4] :   0.0 :   True\n",
            "      4 :   1.0 : P[1,5] :   1.0 :   True\n",
            "      5 :   0.0 : P[2,3] :   0.0 :   True\n",
            "      6 :   1.0 : P[2,4] :   1.0 :   True\n",
            "      7 :   0.0 : P[2,5] :   0.0 :   True\n",
            "      8 :   0.0 : P[3,4] :   0.0 :   True\n",
            "      9 :   0.0 : P[3,5] :   0.0 :   True\n",
            "     10 :   0.0 : P[4,5] :   0.0 :   True\n",
            "PairPos : Size=5, Index=PairPos_index, Active=True\n",
            "    Key : Lower : Body                              : Upper : Active\n",
            "      1 :  -Inf : P[1,2] + P[1,3] + P[1,4] + P[1,5] :   1.0 :   True\n",
            "      2 :  -Inf : P[1,2] + P[2,3] + P[2,4] + P[2,5] :   1.0 :   True\n",
            "      3 :  -Inf : P[1,3] + P[2,3] + P[3,4] + P[3,5] :   1.0 :   True\n",
            "      4 :  -Inf : P[1,4] + P[2,4] + P[3,4] + P[4,5] :   1.0 :   True\n",
            "      5 :  -Inf : P[1,5] + P[2,5] + P[3,5] + P[4,5] :   1.0 :   True\n",
            "Obj : Size=1, Index=None, Active=True\n",
            "ERROR: evaluating object as numeric value: P[1,2]\n",
            "        (object: <class 'pyomo.core.base.var._GeneralVarData'>)\n",
            "    No value for uninitialized NumericValue object P[1,2]\n",
            "ERROR: evaluating object as numeric value: Obj\n",
            "        (object: <class 'pyomo.core.base.objective.SimpleObjective'>)\n",
            "    No value for uninitialized NumericValue object P[1,2]\n",
            "    Key : Active : Value\n",
            "    None :   None :  None\n"
          ],
          "name": "stdout"
        }
      ]
    },
    {
      "cell_type": "code",
      "metadata": {
        "id": "-E4baJ0-aHDD",
        "colab_type": "code",
        "colab": {}
      },
      "source": [
        "# Solve the model\n",
        "sol = SolverFactory('glpk').solve(model)\n",
        "\n",
        "# Basic info about the solution process\n",
        "for info in sol['Solver']:\n",
        "    print(info)\n",
        "\n",
        "# Report solution value\n",
        "print(\"Optimal solution value: z =\", model.Obj())\n",
        "print(\"Decision variables:\")\n",
        "for i in range(1,rna_length):\n",
        "    for j in range(i,rna_length+1):\n",
        "        print(\"P({},{}) = {}\".format(i, j, model.P[i,j]()))"
      ],
      "execution_count": 0,
      "outputs": []
    }
  ]
}