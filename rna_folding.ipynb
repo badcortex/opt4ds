{
  "nbformat": 4,
  "nbformat_minor": 0,
  "metadata": {
    "colab": {
      "name": "rna_folding.ipynb",
      "provenance": [],
      "collapsed_sections": [],
      "authorship_tag": "ABX9TyPO8JKiM+XUr+ayFd542PKT",
      "include_colab_link": true
    },
    "kernelspec": {
      "name": "python3",
      "display_name": "Python 3"
    }
  },
  "cells": [
    {
      "cell_type": "markdown",
      "metadata": {
        "id": "view-in-github",
        "colab_type": "text"
      },
      "source": [
        "<a href=\"https://colab.research.google.com/github/badcortex/opt4ds/blob/master/rna_folding.ipynb\" target=\"_parent\"><img src=\"https://colab.research.google.com/assets/colab-badge.svg\" alt=\"Open In Colab\"/></a>"
      ]
    },
    {
      "cell_type": "markdown",
      "metadata": {
        "id": "ofc3wiUNEbH1",
        "colab_type": "text"
      },
      "source": [
        "In order to run the following notebook it is necessary to install the *Pyomo* library.  "
      ]
    },
    {
      "cell_type": "code",
      "metadata": {
        "id": "kz3NDqe7Ear9",
        "colab_type": "code",
        "colab": {}
      },
      "source": [
        "import shutil\n",
        "import sys\n",
        "import os.path\n",
        "\n",
        "if not shutil.which(\"pyomo\"):\n",
        "    !pip install -q pyomo\n",
        "    assert(shutil.which(\"pyomo\"))\n",
        "\n",
        "if not (shutil.which(\"glpk\") or os.path.isfile(\"glpk\")):\n",
        "    if \"google.colab\" in sys.modules:\n",
        "        !apt-get install -y -qq glpk-utils\n",
        "    else:\n",
        "        try:\n",
        "            !conda install -c conda-forge glpk \n",
        "        except:\n",
        "            pass"
      ],
      "execution_count": 0,
      "outputs": []
    },
    {
      "cell_type": "markdown",
      "metadata": {
        "id": "gnQW0_QZ6nl1",
        "colab_type": "text"
      },
      "source": [
        "# The RNA Folding problem \n",
        "\n",
        "**The Simple RNA Folding problem** : Given the nucleotide sequence *s* of a RNA molecule, find a *nested pairing* that pairs the *maximum* number of nucleotides, compared to any other nested pairing. \n",
        "\n",
        "### A toy example\n",
        "The ILP formulation for the Simple RNA Folding problem will have one binary variable, called $P(i,j)$, for each pair $(i,j)$ of positions in *s*, where $i < j$. The value $P(i,j)$ given by a feasible solution to the ILP formulation whether or not the nucleotide in $i$ of *s* will be paired with the nucleotide in position $j$ of *s*. \n",
        "\n",
        "1. **The objective funtion** : $$ Maximize \\sum_{i<j} P(i,j) $$ \n",
        "2. **The inequalities** : For every pair $(i,j)$ of positions in *s* that do not have complementary characters $$ P(i,j) = 0 $$ \n",
        "For each position $j$ in *s* $$ \\sum_{k < j} P(k,j) + \\sum_{k > j} P(j,k) \\leq 1 $$ For every choice of four positions $i < i'< j < j'$\n",
        "$$ P(i,j)+P(i',j') \\leq 1 $$\n",
        "\n"
      ]
    },
    {
      "cell_type": "code",
      "metadata": {
        "id": "ISmQaZb9LMtt",
        "colab_type": "code",
        "colab": {}
      },
      "source": [
        "s = \"ACUGU\" # RNA molecule string\n",
        "\n",
        "from pyomo.environ import *\n",
        "\n",
        "# Creazione del modello \n",
        "model = ConcreteModel()\n",
        "\n",
        "# Indici \n",
        "model.i = RangeSet(1,len(s))\n",
        "model.j = RangeSet(1,len(s))\n",
        "\n",
        "# Variabile\n",
        "model.p = Var(model.i, model.j, within=Binary)\n",
        "\n",
        "# Funzione obiettivo\n",
        "model.obj = Objective(expr=model.p[1,3]+model.p[1,5]+model.p[2,4], sense=maximize)\n",
        "\n",
        "# Vincoli \n",
        "model.pair1 = Constraint(expr = model.p[1,2]+model.p[1,3]+model.p[1,4]+model.p[1,5] <= 1)\n",
        "model.pair2 = Constraint(expr = model.p[1,2]+model.p[2,3]+model.p[2,4]+model.p[2,5] <= 1)\n",
        "model.pair3 = Constraint(expr = model.p[1,3]+model.p[2,3]+model.p[3,4]+model.p[3,5] <= 1)\n",
        "model.pair4 = Constraint(expr = model.p[1,4]+model.p[2,4]+model.p[3,4]+model.p[4,5] <= 1)\n",
        "model.pair5 = Constraint(expr = model.p[1,5]+model.p[2,5]+model.p[3,5]+model.p[4,5] <= 1)\n",
        "\n",
        "model.nest1 = Constraint(expr = model.p[1,3]+model.p[2,4] <= 1)\n",
        "model.nest2 = Constraint(expr = model.p[1,3]+model.p[2,5] <= 1)\n",
        "model.nest3 = Constraint(expr = model.p[1,4]+model.p[2,5] <= 1)\n",
        "model.nest4 = Constraint(expr = model.p[1,4]+model.p[3,5] <= 1)\n",
        "model.nest5 = Constraint(expr = model.p[2,4]+model.p[3,5] <= 1)"
      ],
      "execution_count": 0,
      "outputs": []
    },
    {
      "cell_type": "code",
      "metadata": {
        "id": "L4CLyHEDVFis",
        "colab_type": "code",
        "outputId": "439abef7-c42f-45e4-adaa-2e094e304ae4",
        "colab": {
          "base_uri": "https://localhost:8080/",
          "height": 185
        }
      },
      "source": [
        "# Solve the model\n",
        "sol = SolverFactory('glpk').solve(model)\n",
        "\n",
        "# Basic info about the solution process\n",
        "for info in sol['Solver']:\n",
        "    print(info)"
      ],
      "execution_count": 0,
      "outputs": [
        {
          "output_type": "stream",
          "text": [
            "\n",
            "Status: ok\n",
            "Termination condition: optimal\n",
            "Statistics: \n",
            "  Branch and bound: \n",
            "    Number of bounded subproblems: 1\n",
            "    Number of created subproblems: 1\n",
            "Error rc: 0\n",
            "Time: 0.010935783386230469\n",
            "\n"
          ],
          "name": "stdout"
        }
      ]
    },
    {
      "cell_type": "code",
      "metadata": {
        "id": "rqc8xbH2WsBo",
        "colab_type": "code",
        "outputId": "2446358a-0fe6-4ba7-a55e-dbd77e795c11",
        "colab": {
          "base_uri": "https://localhost:8080/",
          "height": 34
        }
      },
      "source": [
        "# Report solution value\n",
        "print(\"Optimal solution value: z =\", model.obj())"
      ],
      "execution_count": 0,
      "outputs": [
        {
          "output_type": "stream",
          "text": [
            "Optimal solution value: z = 2.0\n"
          ],
          "name": "stdout"
        }
      ]
    }
  ]
}