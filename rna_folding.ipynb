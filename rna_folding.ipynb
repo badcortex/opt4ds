{
  "nbformat": 4,
  "nbformat_minor": 0,
  "metadata": {
    "colab": {
      "name": "rna_folding.ipynb",
      "provenance": [],
      "collapsed_sections": [],
      "authorship_tag": "ABX9TyPhKuusLkYWQ4VPohChCZDS",
      "include_colab_link": true
    },
    "kernelspec": {
      "name": "python3",
      "display_name": "Python 3"
    }
  },
  "cells": [
    {
      "cell_type": "markdown",
      "metadata": {
        "id": "view-in-github",
        "colab_type": "text"
      },
      "source": [
        "<a href=\"https://colab.research.google.com/github/badcortex/opt4ds/blob/master/rna_folding.ipynb\" target=\"_parent\"><img src=\"https://colab.research.google.com/assets/colab-badge.svg\" alt=\"Open In Colab\"/></a>"
      ]
    },
    {
      "cell_type": "markdown",
      "metadata": {
        "id": "ofc3wiUNEbH1",
        "colab_type": "text"
      },
      "source": [
        "In order to run the following notebook it is necessary to install the *Pyomo* library.  "
      ]
    },
    {
      "cell_type": "code",
      "metadata": {
        "id": "kz3NDqe7Ear9",
        "colab_type": "code",
        "colab": {
          "base_uri": "https://localhost:8080/",
          "height": 504
        },
        "outputId": "3826b104-4225-4bcc-86ea-4511b274b2c0"
      },
      "source": [
        "import shutil\n",
        "import sys\n",
        "import os.path\n",
        "\n",
        "if not shutil.which(\"pyomo\"):\n",
        "    !pip install -q pyomo\n",
        "    assert(shutil.which(\"pyomo\"))\n",
        "\n",
        "if not (shutil.which(\"glpk\") or os.path.isfile(\"glpk\")):\n",
        "    if \"google.colab\" in sys.modules:\n",
        "        !apt-get install -y -qq glpk-utils\n",
        "    else:\n",
        "        try:\n",
        "            !conda install -c conda-forge glpk \n",
        "        except:\n",
        "            pass"
      ],
      "execution_count": 1,
      "outputs": [
        {
          "output_type": "stream",
          "text": [
            "\u001b[K     |████████████████████████████████| 2.5MB 9.6MB/s \n",
            "\u001b[K     |████████████████████████████████| 266kB 48.7MB/s \n",
            "\u001b[K     |████████████████████████████████| 51kB 7.0MB/s \n",
            "\u001b[K     |████████████████████████████████| 163kB 52.5MB/s \n",
            "\u001b[?25hSelecting previously unselected package libsuitesparseconfig5:amd64.\n",
            "(Reading database ... 144429 files and directories currently installed.)\n",
            "Preparing to unpack .../libsuitesparseconfig5_1%3a5.1.2-2_amd64.deb ...\n",
            "Unpacking libsuitesparseconfig5:amd64 (1:5.1.2-2) ...\n",
            "Selecting previously unselected package libamd2:amd64.\n",
            "Preparing to unpack .../libamd2_1%3a5.1.2-2_amd64.deb ...\n",
            "Unpacking libamd2:amd64 (1:5.1.2-2) ...\n",
            "Selecting previously unselected package libcolamd2:amd64.\n",
            "Preparing to unpack .../libcolamd2_1%3a5.1.2-2_amd64.deb ...\n",
            "Unpacking libcolamd2:amd64 (1:5.1.2-2) ...\n",
            "Selecting previously unselected package libglpk40:amd64.\n",
            "Preparing to unpack .../libglpk40_4.65-1_amd64.deb ...\n",
            "Unpacking libglpk40:amd64 (4.65-1) ...\n",
            "Selecting previously unselected package glpk-utils.\n",
            "Preparing to unpack .../glpk-utils_4.65-1_amd64.deb ...\n",
            "Unpacking glpk-utils (4.65-1) ...\n",
            "Setting up libsuitesparseconfig5:amd64 (1:5.1.2-2) ...\n",
            "Setting up libcolamd2:amd64 (1:5.1.2-2) ...\n",
            "Setting up libamd2:amd64 (1:5.1.2-2) ...\n",
            "Setting up libglpk40:amd64 (4.65-1) ...\n",
            "Setting up glpk-utils (4.65-1) ...\n",
            "Processing triggers for libc-bin (2.27-3ubuntu1) ...\n",
            "/sbin/ldconfig.real: /usr/local/lib/python3.6/dist-packages/ideep4py/lib/libmkldnn.so.0 is not a symbolic link\n",
            "\n",
            "Processing triggers for man-db (2.8.3-2ubuntu0.1) ...\n"
          ],
          "name": "stdout"
        }
      ]
    },
    {
      "cell_type": "markdown",
      "metadata": {
        "id": "gnQW0_QZ6nl1",
        "colab_type": "text"
      },
      "source": [
        "# The RNA Folding problem \n",
        "\n",
        "**The Simple RNA Folding problem** : Given the nucleotide sequence *s* of a RNA molecule, find a *nested pairing* that pairs the *maximum* number of nucleotides, compared to any other nested pairing. \n",
        "\n",
        "### A toy example\n",
        "The ILP formulation for the Simple RNA Folding problem will have one binary variable, called $P(i,j)$, for each pair $(i,j)$ of positions in *s*, where $i < j$. The value $P(i,j)$ given by a feasible solution to the ILP formulation whether or not the nucleotide in $i$ of *s* will be paired with the nucleotide in position $j$ of *s*. \n",
        "\n",
        "1. **The objective funtion** : $$ Maximize \\sum_{i<j} P(i,j) $$ \n",
        "2. **The inequalities** : For every pair $(i,j)$ of positions in *s* that do not have complementary characters $$ P(i,j) = 0 $$ \n",
        "For each position $j$ in *s* $$ \\sum_{k < j} P(k,j) + \\sum_{k > j} P(j,k) \\leq 1 $$ For every choice of four positions $i < i'< j < j'$\n",
        "$$ P(i,j)+P(i',j') \\leq 1 $$\n",
        "\n"
      ]
    },
    {
      "cell_type": "code",
      "metadata": {
        "id": "ISmQaZb9LMtt",
        "colab_type": "code",
        "colab": {}
      },
      "source": [
        "s = \"ACUGU\" # RNA molecule string\n",
        "\n",
        "from pyomo.environ import *\n",
        "\n",
        "# Creazione del modello \n",
        "model = ConcreteModel()\n",
        "\n",
        "# Indici \n",
        "model.i = RangeSet(1,len(s))\n",
        "model.j = RangeSet(1,len(s))\n",
        "\n",
        "# Variabile\n",
        "model.p = Var(model.i, model.j, within=Binary)\n",
        "\n",
        "# Funzione obiettivo\n",
        "model.obj = Objective(expr=model.p[1,3]+model.p[1,5]+model.p[2,4], sense=maximize)\n",
        "\n",
        "# Vincoli \n",
        "model.pair1 = Constraint(expr = model.p[1,2]+model.p[1,3]+model.p[1,4]+model.p[1,5] <= 1)\n",
        "model.pair2 = Constraint(expr = model.p[1,2]+model.p[2,3]+model.p[2,4]+model.p[2,5] <= 1)\n",
        "model.pair3 = Constraint(expr = model.p[1,3]+model.p[2,3]+model.p[3,4]+model.p[3,5] <= 1)\n",
        "model.pair4 = Constraint(expr = model.p[1,4]+model.p[2,4]+model.p[3,4]+model.p[4,5] <= 1)\n",
        "model.pair5 = Constraint(expr = model.p[1,5]+model.p[2,5]+model.p[3,5]+model.p[4,5] <= 1)\n",
        "\n",
        "model.nest1 = Constraint(expr = model.p[1,3]+model.p[2,4] <= 1)\n",
        "model.nest2 = Constraint(expr = model.p[1,3]+model.p[2,5] <= 1)\n",
        "model.nest3 = Constraint(expr = model.p[1,4]+model.p[2,5] <= 1)\n",
        "model.nest4 = Constraint(expr = model.p[1,4]+model.p[3,5] <= 1)\n",
        "model.nest5 = Constraint(expr = model.p[2,4]+model.p[3,5] <= 1)"
      ],
      "execution_count": 0,
      "outputs": []
    },
    {
      "cell_type": "code",
      "metadata": {
        "id": "L4CLyHEDVFis",
        "colab_type": "code",
        "outputId": "4c92872b-4b53-4516-dc08-2e33b3d60633",
        "colab": {
          "base_uri": "https://localhost:8080/",
          "height": 185
        }
      },
      "source": [
        "# Solve the model\n",
        "sol = SolverFactory('glpk').solve(model)\n",
        "\n",
        "# Basic info about the solution process\n",
        "for info in sol['Solver']:\n",
        "    print(info)"
      ],
      "execution_count": 3,
      "outputs": [
        {
          "output_type": "stream",
          "text": [
            "\n",
            "Status: ok\n",
            "Termination condition: optimal\n",
            "Statistics: \n",
            "  Branch and bound: \n",
            "    Number of bounded subproblems: 1\n",
            "    Number of created subproblems: 1\n",
            "Error rc: 0\n",
            "Time: 0.010518074035644531\n",
            "\n"
          ],
          "name": "stdout"
        }
      ]
    },
    {
      "cell_type": "code",
      "metadata": {
        "id": "rqc8xbH2WsBo",
        "colab_type": "code",
        "outputId": "3bfe5e69-b98b-4c32-c7ab-f2d2bc4839a6",
        "colab": {
          "base_uri": "https://localhost:8080/",
          "height": 34
        }
      },
      "source": [
        "# Report solution value\n",
        "print(\"Optimal solution value: z =\", model.obj())"
      ],
      "execution_count": 4,
      "outputs": [
        {
          "output_type": "stream",
          "text": [
            "Optimal solution value: z = 2.0\n"
          ],
          "name": "stdout"
        }
      ]
    },
    {
      "cell_type": "code",
      "metadata": {
        "id": "_-wNHjIHEo01",
        "colab_type": "code",
        "colab": {
          "base_uri": "https://localhost:8080/",
          "height": 286
        },
        "outputId": "eaaf46e4-f6b6-4f5d-8bc6-dde9037b2514"
      },
      "source": [
        "# Report solution value\n",
        "print(\"Optimal solution value: z =\", model.obj())\n",
        "print(\"Decision variables:\")\n",
        "for i in range(1,len(s)):\n",
        "    for j in range(i,len(s)+1):\n",
        "        print(\"P({},{}) = {}\".format(i, j, model.p[i,j]()))"
      ],
      "execution_count": 8,
      "outputs": [
        {
          "output_type": "stream",
          "text": [
            "Optimal solution value: z = 2.0\n",
            "Decision variables:\n",
            "P(1,1) = None\n",
            "P(1,2) = 0.0\n",
            "P(1,3) = 0.0\n",
            "P(1,4) = 0.0\n",
            "P(1,5) = 1.0\n",
            "P(2,2) = None\n",
            "P(2,3) = 0.0\n",
            "P(2,4) = 1.0\n",
            "P(2,5) = 0.0\n",
            "P(3,3) = None\n",
            "P(3,4) = 0.0\n",
            "P(3,5) = 0.0\n",
            "P(4,4) = None\n",
            "P(4,5) = 0.0\n"
          ],
          "name": "stdout"
        }
      ]
    }
  ]
}